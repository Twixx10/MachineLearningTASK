{
  "nbformat": 4,
  "nbformat_minor": 0,
  "metadata": {
    "colab": {
      "provenance": [],
      "include_colab_link": true
    },
    "kernelspec": {
      "name": "python3",
      "display_name": "Python 3"
    }
  },
  "cells": [
    {
      "cell_type": "markdown",
      "metadata": {
        "id": "view-in-github",
        "colab_type": "text"
      },
      "source": [
        "<a href=\"https://colab.research.google.com/github/Twixx10/MachineLearningTASK/blob/main/Week1/02_Multiple_Linear_Regression_M%20Rakan%20Bagus.ipynb\" target=\"_parent\"><img src=\"https://colab.research.google.com/assets/colab-badge.svg\" alt=\"Open In Colab\"/></a>"
      ]
    },
    {
      "cell_type": "markdown",
      "metadata": {
        "id": "CazISR8X_HUG"
      },
      "source": [
        "# Multiple Linear Regression"
      ]
    },
    {
      "cell_type": "markdown",
      "metadata": {
        "id": "pOyqYHTk_Q57"
      },
      "source": [
        "## Importing the libraries"
      ]
    },
    {
      "cell_type": "code",
      "metadata": {
        "id": "T_YHJjnD_Tja"
      },
      "source": [
        "import pandas as pd\n",
        "import numpy as np\n",
        "from sklearn.model_selection import train_test_split\n",
        "from sklearn.linear_model import LinearRegression\n",
        "from sklearn.preprocessing import OneHotEncoder\n",
        "from sklearn.compose import ColumnTransformer\n"
      ],
      "execution_count": null,
      "outputs": []
    },
    {
      "cell_type": "markdown",
      "metadata": {
        "id": "vgC61-ah_WIz"
      },
      "source": [
        "## Importing the dataset"
      ]
    },
    {
      "cell_type": "code",
      "source": [
        "from google.colab import drive\n",
        "drive.mount('/content/drive')"
      ],
      "metadata": {
        "colab": {
          "base_uri": "https://localhost:8080/"
        },
        "id": "rPdr5wNQmonC",
        "outputId": "d15e9f63-e53c-4fed-df99-0f03d6f6f64e"
      },
      "execution_count": null,
      "outputs": [
        {
          "output_type": "stream",
          "name": "stdout",
          "text": [
            "Mounted at /content/drive\n"
          ]
        }
      ]
    },
    {
      "cell_type": "code",
      "metadata": {
        "id": "UrxyEKGn_ez7",
        "colab": {
          "base_uri": "https://localhost:8080/"
        },
        "outputId": "9a2ba0e5-a931-4e6f-b9c1-ae68d983a676"
      },
      "source": [
        "# Path ke file CSV\n",
        "file_path = '/content/drive/MyDrive/Machine Learning/Dataset/50_Startups.csv'\n",
        "\n",
        "# Membaca file CSV\n",
        "dataset = pd.read_csv(file_path)\n",
        "\n",
        "# Melihat 5 baris pertama dari dataset untuk memastikan datanya sudah benar\n",
        "print(dataset.head())"
      ],
      "execution_count": null,
      "outputs": [
        {
          "output_type": "stream",
          "name": "stdout",
          "text": [
            "   R&D Spend  Administration  Marketing Spend       State     Profit\n",
            "0  165349.20       136897.80        471784.10    New York  192261.83\n",
            "1  162597.70       151377.59        443898.53  California  191792.06\n",
            "2  153441.51       101145.55        407934.54     Florida  191050.39\n",
            "3  144372.41       118671.85        383199.62    New York  182901.99\n",
            "4  142107.34        91391.77        366168.42     Florida  166187.94\n"
          ]
        }
      ]
    },
    {
      "cell_type": "markdown",
      "metadata": {
        "id": "VadrvE7s_lS9"
      },
      "source": [
        "## Feature Engineering"
      ]
    },
    {
      "cell_type": "code",
      "metadata": {
        "id": "wV3fD1mbAvsh"
      },
      "source": [
        "# Memisahkan fitur dan variabel target\n",
        "X = dataset.iloc[:, :-1].values  # Semua kolom kecuali kolom terakhir (Profit)\n",
        "y = dataset.iloc[:, -1].values   # Kolom terakhir (Profit)\n",
        "\n"
      ],
      "execution_count": null,
      "outputs": []
    },
    {
      "cell_type": "code",
      "metadata": {
        "id": "4ym3HdYeCGYG",
        "colab": {
          "base_uri": "https://localhost:8080/"
        },
        "outputId": "58673322-d3f7-48c4-f559-3e4170205387"
      },
      "source": [
        "# Mengonversi variabel kategorikal 'State' menjadi dummy variables\n",
        "# Kolom 'State' ada pada indeks ke-3 (index 3)\n",
        "ct = ColumnTransformer(transformers=[('encoder', OneHotEncoder(), [3])], remainder='passthrough')\n",
        "X = np.array(ct.fit_transform(X))\n",
        "\n",
        "print(X[:5])  # Melihat beberapa data setelah encoding"
      ],
      "execution_count": null,
      "outputs": [
        {
          "output_type": "stream",
          "name": "stdout",
          "text": [
            "[[0.0 0.0 1.0 165349.2 136897.8 471784.1]\n",
            " [1.0 0.0 0.0 162597.7 151377.59 443898.53]\n",
            " [0.0 1.0 0.0 153441.51 101145.55 407934.54]\n",
            " [0.0 0.0 1.0 144372.41 118671.85 383199.62]\n",
            " [0.0 1.0 0.0 142107.34 91391.77 366168.42]]\n"
          ]
        }
      ]
    },
    {
      "cell_type": "markdown",
      "metadata": {
        "id": "WemVnqgeA70k"
      },
      "source": [
        "## Splitting the dataset into the Training set and Test set"
      ]
    },
    {
      "cell_type": "code",
      "metadata": {
        "id": "Kb_v_ae-A-20",
        "colab": {
          "base_uri": "https://localhost:8080/"
        },
        "outputId": "fbd98fd9-fc2a-469d-8048-f1af5eca56f3"
      },
      "source": [
        "# Membagi dataset menjadi Training set dan Test set\n",
        "X_train, X_test, y_train, y_test = train_test_split(X, y, test_size=0.2, random_state=0)\n",
        "\n",
        "# Melihat ukuran dataset yang telah dibagi\n",
        "print(f\"Ukuran X_train: {X_train.shape}, X_test: {X_test.shape}\")"
      ],
      "execution_count": null,
      "outputs": [
        {
          "output_type": "stream",
          "name": "stdout",
          "text": [
            "Ukuran X_train: (40, 6), X_test: (10, 6)\n"
          ]
        }
      ]
    },
    {
      "cell_type": "markdown",
      "metadata": {
        "id": "k-McZVsQBINc"
      },
      "source": [
        "## Training the Multiple Linear Regression model on the Training set"
      ]
    },
    {
      "cell_type": "code",
      "metadata": {
        "id": "ywPjx0L1BMiD",
        "colab": {
          "base_uri": "https://localhost:8080/"
        },
        "outputId": "9a8e2214-bfcd-4f02-8cc9-a8504eb970e3"
      },
      "source": [
        "# Membuat dan melatih model Regresi Linear\n",
        "regressor = LinearRegression()\n",
        "regressor.fit(X_train, y_train)\n",
        "\n",
        "print(\"Model telah dilatih dengan dataset Training.\")"
      ],
      "execution_count": null,
      "outputs": [
        {
          "output_type": "stream",
          "name": "stdout",
          "text": [
            "Model telah dilatih dengan dataset Training.\n"
          ]
        }
      ]
    },
    {
      "cell_type": "markdown",
      "metadata": {
        "id": "xNkXL1YQBiBT"
      },
      "source": [
        "## Predicting the Test set results"
      ]
    },
    {
      "cell_type": "code",
      "metadata": {
        "id": "TQKmwvtdBkyb",
        "colab": {
          "base_uri": "https://localhost:8080/"
        },
        "outputId": "be1f6396-2d9f-4a04-f57d-2ed9017cfdb2"
      },
      "source": [
        "# Memprediksi hasil Test set\n",
        "y_pred = regressor.predict(X_test)\n",
        "\n",
        "# Menampilkan hasil prediksi vs nilai aktual\n",
        "print(\"Hasil prediksi vs nilai aktual:\")\n",
        "comparison = pd.DataFrame({'Predicted': y_pred, 'Actual': y_test})\n",
        "print(comparison)"
      ],
      "execution_count": null,
      "outputs": [
        {
          "output_type": "stream",
          "name": "stdout",
          "text": [
            "Hasil prediksi vs nilai aktual:\n",
            "       Predicted     Actual\n",
            "0  103015.201598  103282.38\n",
            "1  132582.277608  144259.40\n",
            "2  132447.738452  146121.95\n",
            "3   71976.098513   77798.83\n",
            "4  178537.482211  191050.39\n",
            "5  116161.242302  105008.31\n",
            "6   67851.692097   81229.06\n",
            "7   98791.733747   97483.56\n",
            "8  113969.435330  110352.25\n",
            "9  167921.065696  166187.94\n"
          ]
        }
      ]
    },
    {
      "cell_type": "markdown",
      "source": [
        "#KESIMPULAN"
      ],
      "metadata": {
        "id": "pm-VdsjHJg4R"
      }
    },
    {
      "cell_type": "markdown",
      "source": [
        "## Kesimpulannya yaitu prediksi dari Test set menunjukkan bahwa model regresi linear yang kita buat mampu memperkirakan nilai keuntungan perusahaan startup dengan cukup baik, meskipun terdapat beberapa perbedaan antara nilai prediksi dan nilai aktual. Perbedaan ini bisa disebabkan oleh berbagai faktor, seperti data yang tidak mencakup semua variabel yang mempengaruhi keuntungan, atau variasi acak yang tidak dapat diprediksi. Namun secara umum, model memberikan gambaran yang cukup akurat mengenai faktor-faktor yang berpengaruh terhadap profit perusahaan."
      ],
      "metadata": {
        "id": "LtBdrCrVJjI8"
      }
    }
  ]
}