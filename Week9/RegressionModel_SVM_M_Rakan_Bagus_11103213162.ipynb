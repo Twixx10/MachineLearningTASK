{
  "nbformat": 4,
  "nbformat_minor": 0,
  "metadata": {
    "colab": {
      "provenance": [],
      "authorship_tag": "ABX9TyN0Nfp8dk5D3W6oT7S3e/ng",
      "include_colab_link": true
    },
    "kernelspec": {
      "name": "python3",
      "display_name": "Python 3"
    },
    "language_info": {
      "name": "python"
    }
  },
  "cells": [
    {
      "cell_type": "markdown",
      "metadata": {
        "id": "view-in-github",
        "colab_type": "text"
      },
      "source": [
        "<a href=\"https://colab.research.google.com/github/Twixx10/MachineLearningTASK/blob/main/Week9/RegressionModel_SVM_M_Rakan_Bagus_11103213162.ipynb\" target=\"_parent\"><img src=\"https://colab.research.google.com/assets/colab-badge.svg\" alt=\"Open In Colab\"/></a>"
      ]
    },
    {
      "cell_type": "markdown",
      "source": [
        "## Regression Model - SVM Regression\n"
      ],
      "metadata": {
        "id": "OoCDVnBvA4NB"
      }
    },
    {
      "cell_type": "code",
      "execution_count": 2,
      "metadata": {
        "colab": {
          "base_uri": "https://localhost:8080/"
        },
        "id": "IsO0oU4H_--W",
        "outputId": "dda1f166-9b96-48b0-df7a-df214edcf2d1"
      },
      "outputs": [
        {
          "output_type": "stream",
          "name": "stdout",
          "text": [
            "Drive already mounted at /content/drive; to attempt to forcibly remount, call drive.mount(\"/content/drive\", force_remount=True).\n"
          ]
        }
      ],
      "source": [
        "# Import library untuk menghubungkan Google Drive\n",
        "from google.colab import drive\n",
        "\n",
        "# Menghubungkan Google Drive\n",
        "drive.mount('/content/drive')\n",
        "\n",
        "# Path ke dataset di Google Drive\n",
        "dataset_path = '/content/drive/MyDrive/Machine Learning/Dataset/CreditDataset.csv'  # Ganti dengan path dataset Anda\n"
      ]
    },
    {
      "cell_type": "markdown",
      "source": [
        "#Membaca Dataset"
      ],
      "metadata": {
        "id": "xkwlBS8DBiLh"
      }
    },
    {
      "cell_type": "code",
      "source": [
        "# Import library untuk membaca data\n",
        "import pandas as pd\n",
        "\n",
        "# Membaca dataset\n",
        "data = pd.read_csv(dataset_path)\n",
        "\n",
        "# Menampilkan 5 baris pertama\n",
        "print(data.head())\n",
        "\n",
        "# Informasi dasar tentang dataset\n",
        "print(data.info())\n",
        "print(data.describe())\n"
      ],
      "metadata": {
        "colab": {
          "base_uri": "https://localhost:8080/"
        },
        "id": "HjqnQ_2TBe2r",
        "outputId": "246b3b18-ebfa-4e23-910a-8ac5b4e777d0"
      },
      "execution_count": 3,
      "outputs": [
        {
          "output_type": "stream",
          "name": "stdout",
          "text": [
            "    x1  x2   x3   x4    x5   x6   x7  x8   x9   x10  ...   x12 x13   x14  \\\n",
            "0  A11   6  A34  A43  1169  A65  A75   4  A93  A101  ...  A121  67  A143   \n",
            "1  A12  48  A32  A43  5951  A61  A73   2  A92  A101  ...  A121  22  A143   \n",
            "2  A14  12  A34  A46  2096  A61  A74   2  A93  A101  ...  A121  49  A143   \n",
            "3  A11  42  A32  A42  7882  A61  A74   2  A93  A103  ...  A122  45  A143   \n",
            "4  A11  24  A33  A40  4870  A61  A73   3  A93  A101  ...  A124  53  A143   \n",
            "\n",
            "    x15 x16   x17 x18   x19   x20 Class  \n",
            "0  A152   2  A173   1  A192  A201     1  \n",
            "1  A152   1  A173   1  A191  A201     2  \n",
            "2  A152   1  A172   2  A191  A201     1  \n",
            "3  A153   1  A173   2  A191  A201     1  \n",
            "4  A153   2  A173   2  A191  A201     2  \n",
            "\n",
            "[5 rows x 21 columns]\n",
            "<class 'pandas.core.frame.DataFrame'>\n",
            "RangeIndex: 1000 entries, 0 to 999\n",
            "Data columns (total 21 columns):\n",
            " #   Column  Non-Null Count  Dtype \n",
            "---  ------  --------------  ----- \n",
            " 0   x1      1000 non-null   object\n",
            " 1   x2      1000 non-null   int64 \n",
            " 2   x3      1000 non-null   object\n",
            " 3   x4      1000 non-null   object\n",
            " 4   x5      1000 non-null   int64 \n",
            " 5   x6      1000 non-null   object\n",
            " 6   x7      1000 non-null   object\n",
            " 7   x8      1000 non-null   int64 \n",
            " 8   x9      1000 non-null   object\n",
            " 9   x10     1000 non-null   object\n",
            " 10  x11     1000 non-null   int64 \n",
            " 11  x12     1000 non-null   object\n",
            " 12  x13     1000 non-null   int64 \n",
            " 13  x14     1000 non-null   object\n",
            " 14  x15     1000 non-null   object\n",
            " 15  x16     1000 non-null   int64 \n",
            " 16  x17     1000 non-null   object\n",
            " 17  x18     1000 non-null   int64 \n",
            " 18  x19     1000 non-null   object\n",
            " 19  x20     1000 non-null   object\n",
            " 20  Class   1000 non-null   int64 \n",
            "dtypes: int64(8), object(13)\n",
            "memory usage: 164.2+ KB\n",
            "None\n",
            "                x2            x5           x8          x11          x13  \\\n",
            "count  1000.000000   1000.000000  1000.000000  1000.000000  1000.000000   \n",
            "mean     20.903000   3271.258000     2.973000     2.845000    35.546000   \n",
            "std      12.058814   2822.736876     1.118715     1.103718    11.375469   \n",
            "min       4.000000    250.000000     1.000000     1.000000    19.000000   \n",
            "25%      12.000000   1365.500000     2.000000     2.000000    27.000000   \n",
            "50%      18.000000   2319.500000     3.000000     3.000000    33.000000   \n",
            "75%      24.000000   3972.250000     4.000000     4.000000    42.000000   \n",
            "max      72.000000  18424.000000     4.000000     4.000000    75.000000   \n",
            "\n",
            "               x16          x18        Class  \n",
            "count  1000.000000  1000.000000  1000.000000  \n",
            "mean      1.407000     1.155000     1.300000  \n",
            "std       0.577654     0.362086     0.458487  \n",
            "min       1.000000     1.000000     1.000000  \n",
            "25%       1.000000     1.000000     1.000000  \n",
            "50%       1.000000     1.000000     1.000000  \n",
            "75%       2.000000     1.000000     2.000000  \n",
            "max       4.000000     2.000000     2.000000  \n"
          ]
        }
      ]
    },
    {
      "cell_type": "markdown",
      "source": [
        "#Preprocessing Data"
      ],
      "metadata": {
        "id": "5urYERLyBo9V"
      }
    },
    {
      "cell_type": "code",
      "source": [
        "# Import library\n",
        "import pandas as pd\n",
        "from sklearn.model_selection import train_test_split\n",
        "from sklearn.preprocessing import StandardScaler, LabelEncoder\n",
        "\n",
        "# Membaca dataset\n",
        "data = pd.read_csv(dataset_path)\n",
        "\n",
        "# Memisahkan fitur dan target\n",
        "X = data.drop(columns=['Class'])  # Ganti 'Class' dengan nama kolom target\n",
        "y = data['Class']\n",
        "\n",
        "# Identifikasi kolom non-numerik\n",
        "non_numeric_cols = X.select_dtypes(include=['object']).columns\n",
        "\n",
        "# Mengonversi kolom non-numerik menjadi numerik\n",
        "label_encoder = LabelEncoder()\n",
        "for col in non_numeric_cols:\n",
        "    X[col] = label_encoder.fit_transform(X[col])\n",
        "\n",
        "# Mengisi nilai yang hilang dengan rata-rata\n",
        "X.fillna(X.mean(), inplace=True)\n",
        "\n",
        "# Membagi dataset menjadi data latih dan uji\n",
        "X_train, X_test, y_train, y_test = train_test_split(X, y, test_size=0.2, random_state=42)\n",
        "\n",
        "# Standarisasi data\n",
        "scaler = StandardScaler()\n",
        "X_train = scaler.fit_transform(X_train)\n",
        "X_test = scaler.transform(X_test)\n"
      ],
      "metadata": {
        "id": "K0_nXUowBq_3"
      },
      "execution_count": 7,
      "outputs": []
    },
    {
      "cell_type": "markdown",
      "source": [
        "#Membuat Model Regresi SVM"
      ],
      "metadata": {
        "id": "yoKCDxyCCWAk"
      }
    },
    {
      "cell_type": "code",
      "source": [
        "from sklearn.svm import SVR\n",
        "from sklearn.metrics import mean_squared_error, r2_score\n",
        "\n",
        "# Membuat model SVM\n",
        "svm_regressor = SVR(kernel='rbf')\n",
        "\n",
        "# Melatih model\n",
        "svm_regressor.fit(X_train, y_train)\n",
        "\n",
        "# Prediksi pada data uji\n",
        "y_pred = svm_regressor.predict(X_test)\n",
        "\n",
        "# Evaluasi model\n",
        "mse = mean_squared_error(y_test, y_pred)\n",
        "r2 = r2_score(y_test, y_pred)\n",
        "\n",
        "print(f\"Mean Squared Error (MSE): {mse}\")\n",
        "print(f\"R² Score: {r2}\")\n"
      ],
      "metadata": {
        "colab": {
          "base_uri": "https://localhost:8080/"
        },
        "id": "Rg141TESCcfM",
        "outputId": "533e180b-e140-43b6-d166-12a8f7734258"
      },
      "execution_count": 14,
      "outputs": [
        {
          "output_type": "stream",
          "name": "stdout",
          "text": [
            "Mean Squared Error (MSE): 0.15492406296958738\n",
            "R² Score: 0.2550832409203636\n"
          ]
        }
      ]
    },
    {
      "cell_type": "markdown",
      "source": [
        "#Evaluasi Model"
      ],
      "metadata": {
        "id": "GSGLdm-7Ce4D"
      }
    },
    {
      "cell_type": "code",
      "source": [
        "from sklearn.metrics import accuracy_score, precision_score, recall_score, f1_score, roc_auc_score, roc_curve\n",
        "import matplotlib.pyplot as plt\n",
        "\n",
        "# Menggunakan prediksi probabilitas (jika diperlukan)\n",
        "# y_prob = svm_regressor.decision_function(X_test)\n",
        "\n",
        "# Contoh evaluasi untuk klasifikasi\n",
        "accuracy = accuracy_score(y_test, y_pred.round())\n",
        "precision = precision_score(y_test, y_pred.round())\n",
        "recall = recall_score(y_test, y_pred.round())\n",
        "f1 = f1_score(y_test, y_pred.round())\n",
        "auc = roc_auc_score(y_test, y_pred)\n",
        "\n",
        "# Menampilkan hasil\n",
        "print(f\"Akurasi: {accuracy}\")\n",
        "print(f\"Presisi: {precision}\")\n",
        "print(f\"Recall: {recall}\")\n",
        "print(f\"F1 Score: {f1}\")\n",
        "print(f\"AUC: {auc}\")\n",
        "\n",
        "# Plot ROC Curve\n",
        "fpr, tpr, _ = roc_curve(y_test, y_prob, pos_label=2)\n",
        "plt.plot(fpr, tpr, label=f\"SVM (AUC = {auc:.2f})\")\n",
        "plt.xlabel('False Positive Rate')\n",
        "plt.ylabel('True Positive Rate')\n",
        "plt.title('ROC Curve')\n",
        "plt.legend()\n",
        "plt.show()\n"
      ],
      "metadata": {
        "colab": {
          "base_uri": "https://localhost:8080/",
          "height": 559
        },
        "id": "8ealnImlChkm",
        "outputId": "3ae6d220-8ce9-4d76-c817-c06dabef34d8"
      },
      "execution_count": 16,
      "outputs": [
        {
          "output_type": "stream",
          "name": "stdout",
          "text": [
            "Akurasi: 0.8\n",
            "Presisi: 0.8176100628930818\n",
            "Recall: 0.9219858156028369\n",
            "F1 Score: 0.8666666666666667\n",
            "AUC: 0.8005769924269743\n"
          ]
        },
        {
          "output_type": "display_data",
          "data": {
            "text/plain": [
              "<Figure size 640x480 with 1 Axes>"
            ],
            "image/png": "[encoded data removed]"
          },
          "metadata": {}
        }
      ]
    },
    {
      "cell_type": "markdown",
      "source": [
        "#Hyperparameter Tuning"
      ],
      "metadata": {
        "id": "zFPvs1B3GCvS"
      }
    },
    {
      "cell_type": "code",
      "source": [
        "from sklearn.model_selection import GridSearchCV\n",
        "\n",
        "# Parameter grid\n",
        "param_grid = {\n",
        "    'kernel': ['linear', 'rbf'],\n",
        "    'C': [0.1, 1, 10],\n",
        "    'gamma': ['scale', 'auto']\n",
        "}\n",
        "\n",
        "# Grid Search\n",
        "grid_search = GridSearchCV(SVC(probability=True, random_state=42), param_grid, cv=3, scoring='accuracy', n_jobs=-1)\n",
        "grid_search.fit(X_train, y_train)\n",
        "\n",
        "# Model terbaik\n",
        "best_model = grid_search.best_estimator_\n",
        "print(f\"Best Parameters: {grid_search.best_params_}\")\n",
        "\n",
        "# Evaluasi ulang\n",
        "y_pred_best = best_model.predict(X_test)\n",
        "y_prob_best = best_model.predict_proba(X_test)[:, 1]\n",
        "print(\"Classification Report (Best Model):\")\n",
        "print(classification_report(y_test, y_pred_best))\n"
      ],
      "metadata": {
        "colab": {
          "base_uri": "https://localhost:8080/"
        },
        "id": "umf323NRCurJ",
        "outputId": "290e1636-c932-4f30-bf36-91c7c02b2d48"
      },
      "execution_count": 17,
      "outputs": [
        {
          "output_type": "stream",
          "name": "stdout",
          "text": [
            "Best Parameters: {'C': 1, 'gamma': 'scale', 'kernel': 'linear'}\n",
            "Classification Report (Best Model):\n",
            "              precision    recall  f1-score   support\n",
            "\n",
            "           1       0.81      0.90      0.85       141\n",
            "           2       0.67      0.49      0.57        59\n",
            "\n",
            "    accuracy                           0.78       200\n",
            "   macro avg       0.74      0.70      0.71       200\n",
            "weighted avg       0.77      0.78      0.77       200\n",
            "\n"
          ]
        }
      ]
    }
  ]
}