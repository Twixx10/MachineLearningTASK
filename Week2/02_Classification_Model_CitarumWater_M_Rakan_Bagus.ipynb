{
  "nbformat": 4,
  "nbformat_minor": 0,
  "metadata": {
    "colab": {
      "provenance": [],
      "include_colab_link": true
    },
    "kernelspec": {
      "name": "python3",
      "display_name": "Python 3"
    },
    "language_info": {
      "name": "python"
    }
  },
  "cells": [
    {
      "cell_type": "markdown",
      "metadata": {
        "id": "view-in-github",
        "colab_type": "text"
      },
      "source": [
        "<a href=\"https://colab.research.google.com/github/Twixx10/MachineLearningTASK/blob/main/Week2/02_Classification_Model_CitarumWater_M_Rakan_Bagus.ipynb\" target=\"_parent\"><img src=\"https://colab.research.google.com/assets/colab-badge.svg\" alt=\"Open In Colab\"/></a>"
      ]
    },
    {
      "cell_type": "code",
      "source": [
        "# Mengimpor pustaka yang diperlukan\n",
        "import pandas as pd\n",
        "import numpy as np\n",
        "import matplotlib.pyplot as plt\n",
        "import seaborn as sns\n",
        "from sklearn.model_selection import train_test_split\n",
        "from sklearn.linear_model import LogisticRegression\n",
        "from sklearn.preprocessing import StandardScaler  # Mengimpor StandardScaler\n",
        "from sklearn.metrics import (\n",
        "    accuracy_score,\n",
        "    precision_score,\n",
        "    recall_score,\n",
        "    f1_score,\n",
        "    roc_auc_score,\n",
        "    roc_curve,\n",
        "    confusion_matrix\n",
        ")"
      ],
      "metadata": {
        "id": "zSPRYa-WIoL_"
      },
      "execution_count": null,
      "outputs": []
    },
    {
      "cell_type": "code",
      "source": [
        "from google.colab import drive\n",
        "drive.mount('/content/drive')"
      ],
      "metadata": {
        "colab": {
          "base_uri": "https://localhost:8080/"
        },
        "id": "EC5gyKLwHYfb",
        "outputId": "3f4c3201-f011-4ba4-ce99-2fca6c4efc5b"
      },
      "execution_count": null,
      "outputs": [
        {
          "output_type": "stream",
          "name": "stdout",
          "text": [
            "Mounted at /content/drive\n"
          ]
        }
      ]
    },
    {
      "cell_type": "code",
      "source": [
        "# Path ke file CSV\n",
        "file_path = '/content/drive/MyDrive/Machine Learning/Dataset/CitarumWater.csv'\n",
        "\n",
        "# Membaca file CSV\n",
        "data = pd.read_csv(file_path)"
      ],
      "metadata": {
        "id": "fr8qgNhO3Pp-"
      },
      "execution_count": null,
      "outputs": []
    },
    {
      "cell_type": "code",
      "source": [
        "# Tampilkan beberapa baris data\n",
        "print(data.head())\n",
        "\n",
        "# Tampilkan semua nama kolom\n",
        "print(data.columns)\n",
        "\n",
        "# Memeriksa tipe data kolom\n",
        "print(data.dtypes)"
      ],
      "metadata": {
        "colab": {
          "base_uri": "https://localhost:8080/"
        },
        "id": "ylZ1HZyxR3hx",
        "outputId": "43f89f53-5afb-4119-87ae-a65c39797866"
      },
      "execution_count": null,
      "outputs": [
        {
          "output_type": "stream",
          "name": "stdout",
          "text": [
            "   No NamaSungai             TitikPantau       Waktu    pH     Temp   TSS  \\\n",
            "0   1    Citarum             Wangisagara  18/04/2018  7.57  25.55°C  11.0   \n",
            "1   2    Citarum                   Koyod  18/04/2018  7.69  25.55°C  13.0   \n",
            "2   3    Citarum   Setelah IPAL Cisirung  18/04/2018  7.39  25.55°C  15.0   \n",
            "3   4    Citarum                 Nanjung  18/04/2018  7.49  25.55°C  17.0   \n",
            "4   5    Citarum  Outlet Waduk Jatiluhur  18/04/2018  7.17  25.55°C   6.0   \n",
            "\n",
            "     DO   BOD    COD  Nitrat  FecalColiform  Fosfat O2    IP  Class  \n",
            "0  6.11  3.30   6.10    1.08        17000.0   0.043  -  5.12      3  \n",
            "1  6.20  5.31  12.50    1.85        28000.0   0.011  -  5.91      3  \n",
            "2  3.61  7.40  23.50    1.25        90000.0   0.230  -  7.76      3  \n",
            "3  3.17  8.13  27.50    1.21       300000.0   0.057  -  9.61      3  \n",
            "4  6.82  2.89   5.44    1.04         3000.0   0.110  -  2.44      2  \n",
            "Index(['No', 'NamaSungai', 'TitikPantau', 'Waktu', 'pH', 'Temp', 'TSS', 'DO',\n",
            "       'BOD', 'COD', 'Nitrat', 'FecalColiform', 'Fosfat', 'O2', 'IP', 'Class'],\n",
            "      dtype='object')\n",
            "No                 int64\n",
            "NamaSungai        object\n",
            "TitikPantau       object\n",
            "Waktu             object\n",
            "pH               float64\n",
            "Temp              object\n",
            "TSS              float64\n",
            "DO               float64\n",
            "BOD              float64\n",
            "COD              float64\n",
            "Nitrat           float64\n",
            "FecalColiform    float64\n",
            "Fosfat           float64\n",
            "O2                object\n",
            "IP               float64\n",
            "Class              int64\n",
            "dtype: object\n"
          ]
        }
      ]
    },
    {
      "cell_type": "code",
      "source": [
        "# Membersihkan data: Mengonversi 'Temp' menjadi string, jika tidak\n",
        "data['Temp'] = data['Temp'].astype(str).str.replace('°C', '')  # Menghapus '°C'\n",
        "data['Temp'] = data['Temp'].astype(float)  # Mengonversi ke float\n",
        "\n",
        "# Mengonversi pH ke float\n",
        "data['pH'] = data['pH'].astype(float)\n",
        "\n",
        "# Menghapus kolom yang tidak diperlukan jika ada\n",
        "columns_to_drop = ['No', 'NamaSungai', 'TitikPantau', 'Waktu']\n",
        "data = data.drop(columns=[col for col in columns_to_drop if col in data.columns], errors='ignore')\n",
        "\n",
        "# Mengganti kolom target dengan nama yang tepat dalam dataset\n",
        "target_column = 'Class'  # Kolom target yang benar\n",
        "X = data.drop(columns=[target_column])  # Memisahkan fitur\n",
        "y = data[target_column]  # Memisahkan target\n",
        "\n",
        "# Melakukan One-Hot Encoding pada kolom kategorikal jika ada\n",
        "X = pd.get_dummies(X, drop_first=True)  # Mengonversi kolom kategorikal menjadi variabel dummy\n",
        "\n",
        "# Membagi data menjadi set pelatihan dan pengujian\n",
        "X_train, X_test, y_train, y_test = train_test_split(X, y, test_size=0.2, random_state=42)\n",
        "\n",
        "# Melakukan standardisasi pada data\n",
        "scaler = StandardScaler()  # Membuat objek scaler\n",
        "X_train = scaler.fit_transform(X_train)  # Melatih dan mentransformasikan data pelatihan\n",
        "X_test = scaler.transform(X_test)  # Mentransformasikan data pengujian\n",
        "\n",
        "# Membangun model Logistic Regression\n",
        "model = LogisticRegression(max_iter=2000)  # Meningkatkan iterasi maksimum\n",
        "model.fit(X_train, y_train)  # Melatih model\n",
        "\n",
        "# Memprediksi pada set pengujian\n",
        "y_pred = model.predict(X_test)\n",
        "y_prob = model.predict_proba(X_test)  # Probabilitas untuk setiap kelas\n",
        "\n",
        "# Pastikan y_pred dan y_test memiliki dimensi yang benar\n",
        "print(\"Shape of y_test:\", y_test.shape)\n",
        "print(\"Shape of y_pred:\", y_pred.shape)\n",
        "\n",
        "# Menghitung metrik evaluasi\n",
        "accuracy = accuracy_score(y_test, y_pred)\n",
        "precision = precision_score(y_test, y_pred, average='weighted')  # Menggunakan average='weighted' untuk multi-class\n",
        "recall = recall_score(y_test, y_pred, average='weighted')\n",
        "f1 = f1_score(y_test, y_pred, average='weighted')\n",
        "\n",
        "# Menghitung AUC untuk multi-class\n",
        "roc_auc = roc_auc_score(y_test, y_prob, multi_class='ovr')  # Menghitung AUC untuk multi-class\n",
        "\n",
        "# Menampilkan hasil evaluasi\n",
        "print(\"Metrik Evaluasi:\")\n",
        "print(f\"Akurasi: {accuracy:.2f}\")\n",
        "print(f\"Presisi: {precision:.2f}\")\n",
        "print(f\"Recall: {recall:.2f}\")\n",
        "print(f\"F1-Score: {f1:.2f}\")\n",
        "print(f\"AUC: {roc_auc:.2f}\")\n",
        "\n",
        "# Menghitung dan menampilkan Confusion Matrix\n",
        "cm = confusion_matrix(y_test, y_pred)\n",
        "\n",
        "# Memeriksa dimensi Confusion Matrix\n",
        "print(\"Shape of confusion matrix:\", cm.shape)\n",
        "\n",
        "plt.figure(figsize=(8, 6))\n",
        "sns.heatmap(cm, annot=True, fmt='d', cmap='Blues', xticklabels=np.unique(y), yticklabels=np.unique(y))\n",
        "plt.ylabel('Aktual')\n",
        "plt.xlabel('Prediksi')\n",
        "plt.title('Confusion Matrix')\n",
        "plt.show()\n",
        "\n",
        "# Plot ROC Curve\n",
        "# Pastikan untuk menggunakan pos_label yang sesuai jika kita memiliki lebih dari dua kelas\n",
        "# Periksa jika ada dua kelas atau lebih\n",
        "if len(np.unique(y)) == 2:\n",
        "    fpr, tpr, thresholds = roc_curve(y_test, y_prob[:, 1], pos_label=1)  # Pos label diatur untuk dua kelas\n",
        "    plt.figure(figsize=(8, 6))\n",
        "    plt.plot(fpr, tpr, color='blue', label='ROC Curve (AUC = {:.2f})'.format(roc_auc))\n",
        "    plt.plot([0, 1], [0, 1], color='red', linestyle='--')  # Garis diagonal\n",
        "    plt.xlabel('False Positive Rate')\n",
        "    plt.ylabel('True Positive Rate')\n",
        "    plt.title('Receiver Operating Characteristic (ROC) Curve')\n",
        "    plt.legend()\n",
        "    plt.show()\n",
        "else:\n",
        "    print(\"Karena ada lebih dari dua kelas, ROC Curve tidak dapat dihitung dengan cara ini.\")"
      ],
      "metadata": {
        "colab": {
          "base_uri": "https://localhost:8080/",
          "height": 738
        },
        "id": "UjOe1KMBYQmk",
        "outputId": "e0ba2e3e-2a88-41e0-fd95-1d56e637810e"
      },
      "execution_count": null,
      "outputs": [
        {
          "output_type": "stream",
          "name": "stdout",
          "text": [
            "Shape of y_test: (500,)\n",
            "Shape of y_pred: (500,)\n",
            "Metrik Evaluasi:\n",
            "Akurasi: 0.96\n",
            "Presisi: 0.96\n",
            "Recall: 0.96\n",
            "F1-Score: 0.96\n",
            "AUC: 1.00\n",
            "Shape of confusion matrix: (4, 4)\n"
          ]
        },
        {
          "output_type": "display_data",
          "data": {
            "text/plain": [
              "<Figure size 800x600 with 2 Axes>"
            ],
            "image/png": "[encoded data removed]"
          },
          "metadata": {}
        },
        {
          "output_type": "stream",
          "name": "stdout",
          "text": [
            "Karena ada lebih dari dua kelas, ROC Curve tidak dapat dihitung dengan cara ini.\n"
          ]
        }
      ]
    }
  ]
}